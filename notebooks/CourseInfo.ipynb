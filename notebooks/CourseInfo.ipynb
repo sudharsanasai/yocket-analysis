{
 "cells": [
  {
   "cell_type": "code",
   "execution_count": 32,
   "metadata": {},
   "outputs": [],
   "source": [
    "import urllib\n",
    "import re\n",
    "import itertools\n",
    "import json\n",
    "import pandas as pd\n",
    "import pickle as pkl"
   ]
  },
  {
   "cell_type": "code",
   "execution_count": 33,
   "metadata": {},
   "outputs": [],
   "source": [
    "input_file = open('../data/course_list.pkl', 'rb')\n",
    "course_list = pkl.load(input_file)"
   ]
  },
  {
   "cell_type": "code",
   "execution_count": 29,
   "metadata": {},
   "outputs": [],
   "source": [
    "def create_url(university_slug, university_course_name, university_course_id):\n",
    "    \n",
    "    return 'https://www.yocket.com/universities/'+course['slug']+'/'+course['university_course_name'].lower().replace(' ','-')+'-'+course['university_course_id']"
   ]
  },
  {
   "cell_type": "code",
   "execution_count": 39,
   "metadata": {
    "scrolled": true
   },
   "outputs": [],
   "source": [
    "course_urls = []\n",
    "for course in course_list:\n",
    "    if None not in course.values():\n",
    "        course_urls.append(create_url(course['slug'],course['university_course_name'].lower().replace(' ','-'),course['university_course_id']))"
   ]
  },
  {
   "cell_type": "code",
   "execution_count": 43,
   "metadata": {},
   "outputs": [],
   "source": [
    "# output = open('../data/course_yocket_links.pkl', 'wb')\n",
    "# pkl.dump(course_urls, output)\n",
    "# output.close()\n"
   ]
  },
  {
   "cell_type": "code",
   "execution_count": null,
   "metadata": {},
   "outputs": [],
   "source": []
  }
 ],
 "metadata": {
  "kernelspec": {
   "display_name": "yocket",
   "language": "python",
   "name": "yocket"
  },
  "language_info": {
   "codemirror_mode": {
    "name": "ipython",
    "version": 3
   },
   "file_extension": ".py",
   "mimetype": "text/x-python",
   "name": "python",
   "nbconvert_exporter": "python",
   "pygments_lexer": "ipython3",
   "version": "3.6.13"
  }
 },
 "nbformat": 4,
 "nbformat_minor": 4
}
